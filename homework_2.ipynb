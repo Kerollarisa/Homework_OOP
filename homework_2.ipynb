{
 "cells": [
  {
   "cell_type": "code",
   "execution_count": 1,
   "id": "a8533835",
   "metadata": {},
   "outputs": [
    {
     "name": "stdout",
     "output_type": "stream",
     "text": [
      "None\n",
      "Ошибка\n",
      "Ошибка\n",
      "Ошибка\n",
      "{'Python': [7]}\n"
     ]
    }
   ],
   "source": [
    "class Student:\n",
    "    def __init__(self, name, surname, gender):\n",
    "        self.name = name\n",
    "        self.surname = surname\n",
    "        self.gender = gender\n",
    "        self.finished_courses = []\n",
    "        self.courses_in_progress = []\n",
    "        self.grades = {}\n",
    "    \n",
    "    def rate_lecture(self, lecturer, course, grade):\n",
    "        if not isinstance(lecturer, Lecturer):\n",
    "            return 'Ошибка'\n",
    "        if course not in self.courses_in_progress or course not in lecturer.courses_attached:\n",
    "            return 'Ошибка'\n",
    "        if grade < 1 or grade > 10:\n",
    "            return 'Ошибка'\n",
    "        \n",
    "        if hasattr(lecturer, 'grades'):\n",
    "            if course in lecturer.grades:\n",
    "                lecturer.grades[course] += [grade]\n",
    "            else:\n",
    "                lecturer.grades[course] = [grade]\n",
    "        else:\n",
    "            return 'Ошибка'\n",
    "        \n",
    "        return None\n",
    "\n",
    "\n",
    "class Mentor:\n",
    "    def __init__(self, name, surname):\n",
    "        self.name = name\n",
    "        self.surname = surname\n",
    "        self.courses_attached = []\n",
    "\n",
    "\n",
    "class Lecturer(Mentor):\n",
    "    \"\"\"Класс для лекторов, наследуется от Mentor\"\"\"\n",
    "    def __init__(self, name, surname):\n",
    "        super().__init__(name, surname)\n",
    "        self.grades = {}\n",
    "\n",
    "\n",
    "class Reviewer(Mentor):\n",
    "    \"\"\"Класс для экспертов, проверяющих домашние задания, наследуется от Mentor\"\"\"\n",
    "    def rate_hw(self, student, course, grade):\n",
    "        if isinstance(student, Student) and course in self.courses_attached and course in student.courses_in_progress:\n",
    "            if course in student.grades:\n",
    "                student.grades[course] += [grade]\n",
    "            else:\n",
    "                student.grades[course] = [grade]\n",
    "        else:\n",
    "            return 'Ошибка'\n",
    "\n",
    "\n",
    "# Тестирование\n",
    "lecturer = Lecturer('Иван', 'Иванов')\n",
    "reviewer = Reviewer('Пётр', 'Петров')\n",
    "student = Student('Алёхина', 'Ольга', 'Ж')\n",
    "\n",
    "student.courses_in_progress += ['Python', 'Java']\n",
    "lecturer.courses_attached += ['Python', 'C++']\n",
    "reviewer.courses_attached += ['Python', 'C++']\n",
    "\n",
    "print(student.rate_lecture(lecturer, 'Python', 7))   # None\n",
    "print(student.rate_lecture(lecturer, 'Java', 8))     # Ошибка\n",
    "print(student.rate_lecture(lecturer, 'C++', 8))      # Ошибка\n",
    "print(student.rate_lecture(reviewer, 'Python', 6))   # Ошибка\n",
    "\n",
    "print(lecturer.grades)  # {'Python': [7]}"
   ]
  }
 ],
 "metadata": {
  "kernelspec": {
   "display_name": ".venv",
   "language": "python",
   "name": "python3"
  },
  "language_info": {
   "codemirror_mode": {
    "name": "ipython",
    "version": 3
   },
   "file_extension": ".py",
   "mimetype": "text/x-python",
   "name": "python",
   "nbconvert_exporter": "python",
   "pygments_lexer": "ipython3",
   "version": "3.13.7"
  }
 },
 "nbformat": 4,
 "nbformat_minor": 5
}
