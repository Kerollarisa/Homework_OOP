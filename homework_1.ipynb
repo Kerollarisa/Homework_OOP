{
 "cells": [
  {
   "cell_type": "code",
   "execution_count": 1,
   "id": "c9eb79d6",
   "metadata": {},
   "outputs": [
    {
     "name": "stdout",
     "output_type": "stream",
     "text": [
      "True\n",
      "True\n",
      "[]\n",
      "[]\n"
     ]
    }
   ],
   "source": [
    "class Student:\n",
    "    def __init__(self, name, surname, gender):\n",
    "        self.name = name\n",
    "        self.surname = surname\n",
    "        self.gender = gender\n",
    "        self.finished_courses = []\n",
    "        self.courses_in_progress = []\n",
    "        self.grades = {}\n",
    "\n",
    "\n",
    "class Mentor:\n",
    "    def __init__(self, name, surname):\n",
    "        self.name = name\n",
    "        self.surname = surname\n",
    "        self.courses_attached = []\n",
    "        \n",
    "    def rate_hw(self, student, course, grade):\n",
    "        if isinstance(student, Student) and course in self.courses_attached and course in student.courses_in_progress:\n",
    "            if course in student.grades:\n",
    "                student.grades[course] += [grade]\n",
    "            else:\n",
    "                student.grades[course] = [grade]\n",
    "        else:\n",
    "            return 'Ошибка'\n",
    "\n",
    "\n",
    "class Lecturer(Mentor):\n",
    "    \"\"\"Класс для лекторов, наследуется от Mentor\"\"\"\n",
    "    pass\n",
    "\n",
    "\n",
    "class Reviewer(Mentor):\n",
    "    \"\"\"Класс для экспертов, проверяющих домашние задания, наследуется от Mentor\"\"\"\n",
    "    pass\n",
    "\n",
    "\n",
    "# Тестирование\n",
    "lecturer = Lecturer('Иван', 'Иванов')\n",
    "reviewer = Reviewer('Пётр', 'Петров')\n",
    "\n",
    "print(isinstance(lecturer, Mentor))  # True\n",
    "print(isinstance(reviewer, Mentor))  # True\n",
    "print(lecturer.courses_attached)     # []\n",
    "print(reviewer.courses_attached)     # []"
   ]
  }
 ],
 "metadata": {
  "kernelspec": {
   "display_name": ".venv",
   "language": "python",
   "name": "python3"
  },
  "language_info": {
   "codemirror_mode": {
    "name": "ipython",
    "version": 3
   },
   "file_extension": ".py",
   "mimetype": "text/x-python",
   "name": "python",
   "nbconvert_exporter": "python",
   "pygments_lexer": "ipython3",
   "version": "3.13.7"
  }
 },
 "nbformat": 4,
 "nbformat_minor": 5
}
